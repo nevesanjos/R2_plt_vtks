{
 "cells": [
  {
   "cell_type": "code",
   "execution_count": 1,
   "metadata": {},
   "outputs": [],
   "source": [
    "import sys\n",
    "import numpy as np\n",
    "import matplotlib as mpl\n",
    "import matplotlib.pyplot as plt\n",
    "from matplotlib.path import Path\n",
    "import matplotlib.patches as patches\n",
    "import glob\n",
    "from scipy.interpolate import griddata\n",
    "import os\n",
    "from shutil import copyfile\n",
    "import re"
   ]
  },
  {
   "cell_type": "code",
   "execution_count": 25,
   "metadata": {},
   "outputs": [],
   "source": [
    "# Define the axes\n",
    "fig_size = (14, 6)\n",
    "axes2 = [0.93, 0.1, 0.02, 0.8] # palete\n",
    "xmin = 0\n",
    "xmax = 13.3\n",
    "ymin = 394 - 2\n",
    "ymax = 394 + 0.5\n",
    "text_size = 12\n",
    "plt.rc('text', usetex=True)\n",
    "plt.rc('font', family='serif')"
   ]
  },
  {
   "cell_type": "code",
   "execution_count": 4,
   "metadata": {},
   "outputs": [],
   "source": [
    "# Define the colormap\n",
    "number_of_color = 2**3 ## not being used. I need to understand better how control the number of colors in cmap & palete\n",
    "cmap = plt.cm.gist_earth  # define the colormap\n",
    "#cmaplist = [cmap(i) for i in np.linspace(0,cmap.N+1,number_of_color)]\n",
    "cmaplist = [cmap(i) for i in range(cmap.N)]\n",
    "#cmaplist[0] = (.5, .5, .5, 1.0)\n",
    "cmap = mpl.colors.LinearSegmentedColormap.from_list('Custom cmap', cmaplist, cmap.N)"
   ]
  },
  {
   "cell_type": "code",
   "execution_count": 14,
   "metadata": {},
   "outputs": [],
   "source": [
    "# Working with directores and files\n",
    "#path_d = \"../Example_files/\"\n",
    "path_d = \"/home/felipe/tmp/AZ/FEB_MAR_2020/data/Sg/test/\"\n",
    "if os.path.exists(path_d + \"invdir/ref\"):\n",
    "    ref = path_d + \"invdir/ref/f001_res.vtk\" \n",
    "    copyfile(ref,path_d + \"invdir/\" + \"f000_res.vtk\") \n",
    "files = [f for f in glob.glob(path_d + \"invdir/f???_res.vtk\")]\n",
    "files.sort()\n",
    "data = [d for d in glob.glob(path_d + \"data/*.stg\")]\n",
    "data.sort()\n",
    "\n",
    "if not os.path.exists(path_d + \"pngs\"):\n",
    "        os.makedirs(path_d + \"pngs\")\n",
    "#os.mkdir(path_+\"pngs\")\n",
    "\n",
    "pngs = [p for p in glob.glob(path_d + \"pngs/*.png\")]"
   ]
  },
  {
   "cell_type": "code",
   "execution_count": 18,
   "metadata": {},
   "outputs": [],
   "source": [
    "# define the global min and max values \n",
    "mm = np.zeros(2)\n",
    "mm[0] = 10\n",
    "for l in files:\n",
    "    with open(l,'r') as gh:\n",
    "        a = ' '\n",
    "        while 'Resistivity(log10)' not in a:\n",
    "            a = gh.readline()\n",
    "        trash = gh.readline()\n",
    "        d = gh.readline().split()\n",
    "        if(mm[0] > float(min(d))):\n",
    "            mm[0] = float(min(d))\n",
    "        if(mm[1] < float(max(d))):\n",
    "            mm[1] = float(max(d))            \n",
    "gh.close()"
   ]
  },
  {
   "cell_type": "code",
   "execution_count": 19,
   "metadata": {},
   "outputs": [],
   "source": [
    "# palete color\n",
    "bounds = np.linspace(mm[0], mm[1], cmap.N)\n",
    "norm = mpl.colors.BoundaryNorm(bounds, cmap.N)\n"
   ]
  },
  {
   "cell_type": "code",
   "execution_count": 27,
   "metadata": {},
   "outputs": [
    {
     "name": "stdout",
     "output_type": "stream",
     "text": [
      "Working on /home/felipe/tmp/AZ/FEB_MAR_2020/data/Sg/test/invdir/f000_res.vtk\n"
     ]
    },
    {
     "name": "stderr",
     "output_type": "stream",
     "text": [
      "/home/felipe/.conda/envs/py3.6/lib/python3.6/site-packages/ipykernel_launcher.py:88: MatplotlibDeprecationWarning: \n",
      "The frameon kwarg was deprecated in Matplotlib 3.1 and will be removed in 3.3. Use facecolor instead.\n"
     ]
    },
    {
     "name": "stdout",
     "output_type": "stream",
     "text": [
      "Working on /home/felipe/tmp/AZ/FEB_MAR_2020/data/Sg/test/invdir/f001_res.vtk\n"
     ]
    },
    {
     "name": "stderr",
     "output_type": "stream",
     "text": [
      "/home/felipe/.conda/envs/py3.6/lib/python3.6/site-packages/ipykernel_launcher.py:88: MatplotlibDeprecationWarning: \n",
      "The frameon kwarg was deprecated in Matplotlib 3.1 and will be removed in 3.3. Use facecolor instead.\n"
     ]
    },
    {
     "name": "stdout",
     "output_type": "stream",
     "text": [
      "Working on /home/felipe/tmp/AZ/FEB_MAR_2020/data/Sg/test/invdir/f002_res.vtk\n",
      "Working on /home/felipe/tmp/AZ/FEB_MAR_2020/data/Sg/test/invdir/f003_res.vtk\n",
      "Working on /home/felipe/tmp/AZ/FEB_MAR_2020/data/Sg/test/invdir/f004_res.vtk\n",
      "Working on /home/felipe/tmp/AZ/FEB_MAR_2020/data/Sg/test/invdir/f005_res.vtk\n",
      "Working on /home/felipe/tmp/AZ/FEB_MAR_2020/data/Sg/test/invdir/f006_res.vtk\n",
      "Working on /home/felipe/tmp/AZ/FEB_MAR_2020/data/Sg/test/invdir/f007_res.vtk\n",
      "\n",
      "\n",
      "Images saved in /home/felipe/tmp/AZ/FEB_MAR_2020/data/Sg/test/pngs/\n"
     ]
    },
    {
     "data": {
      "image/png": "[encoded data removed]",
      "text/plain": [
       "<Figure size 432x288 with 1 Axes>"
      ]
     },
     "metadata": {
      "needs_background": "light"
     },
     "output_type": "display_data"
    }
   ],
   "source": [
    "for w,f in enumerate(files):\n",
    "    if(str(f) not in str(pngs)):\n",
    "        print(\"Working on \" + f)\n",
    "        \n",
    "        \n",
    "        fig, ax = plt.subplots(1, 1, figsize = fig_size)\n",
    "        ax.set_xlim(xmin,xmax)\n",
    "        ax.set_ylim(ymin,ymax)\n",
    "        ax.set_xlabel(\"Distance [$m$]\",size=text_size)\n",
    "        ax.set_ylabel(\"Elevation [$m$]\",size=text_size)\n",
    "       \n",
    "        with open(f,'r') as fh:\n",
    "            a = ' '\n",
    "            while 'POINTS' not in a:\n",
    "                a = (fh.readline().strip())\n",
    "            string = re.sub('double',' ',re.sub('POINTS',' ', a))\n",
    "            nnodal = int(string)\n",
    "            Nodal = []\n",
    "            Elem = []\n",
    "            rho_truelog = []\n",
    "            rho = []\n",
    "            S = []\n",
    "            dump = fh.readlines()\n",
    "            for i, line in enumerate(dump):\n",
    "                if(i < nnodal):\n",
    "                    Nodal.append(line.split())\n",
    "                elif (i == nnodal):\n",
    "                    n = line.split()\n",
    "                elif (i < int(n[1])+nnodal+1):\n",
    "                    Elem.append(line.split())\n",
    "                elif(i < int(n[1])+nnodal+7):\n",
    "                    f = line.split()\n",
    "                elif(i < int(n[1])+nnodal+8):\n",
    "                    rho = line.split()\n",
    "                elif(i < int(n[1])+nnodal+10):\n",
    "                    f = line.split()\n",
    "                elif(i < int(n[1])+nnodal+11):\n",
    "                    rho_truelog = line.split()\n",
    "                elif(i < int(n[1])+nnodal+13):\n",
    "                    f = line.split()\n",
    "                elif(i < int(n[1])+nnodal+14):\n",
    "                    dif = line.split()\n",
    "                elif(i < int(n[1])+nnodal+16):\n",
    "                    f = line.split()\n",
    "                elif(i < int(n[1])+nnodal+17):\n",
    "                    S = line.split()\n",
    "        Elem = np.array(Elem)\n",
    "        Nodal = np.array(Nodal)\n",
    "        S = np.array(S)\n",
    "        rho_truelog = np.array(rho_truelog)\n",
    "       \n",
    "       \n",
    "        for i in range(0,len(Nodal)):\n",
    "            Nodal[i,-1]=i+1\n",
    "       \n",
    "        mshl = len(Elem)\n",
    "       \n",
    "        for i,e in enumerate(Elem):\n",
    "            line1 = int(e[1])+1\n",
    "            line2 = int(e[2])+1\n",
    "            line3 = int(e[3])+1\n",
    "           \n",
    "            index1 = np.where(Nodal[:,-1] == str(line1))\n",
    "            index2 = np.where(Nodal[:,-1] == str(line2))\n",
    "            index3 = np.where(Nodal[:,-1] == str(line3))\n",
    "            indexC = rho_truelog[i]\n",
    "       \n",
    "            plotX = [Nodal[index1,1], Nodal[index2,1], Nodal[index3,1],Nodal[index1,1]]\n",
    "            plotY = [Nodal[index1,2], Nodal[index2,2], Nodal[index3,2],Nodal[index1,2]]\n",
    "       \n",
    "            plotC = cmaplist[int((float(indexC) - mm[0])*len(cmaplist)/(mm[1] - mm[0])) - 1] \n",
    "       \n",
    "            polygon = ((Nodal[index1,0][0][0], Nodal[index1,1][0][0]), (Nodal[index2,0][0][0],Nodal[index2,1][0][0]), (Nodal[index3,0][0][0], Nodal[index3,1][0][0]),(Nodal[index1,0][0][0], Nodal[index1,1][0][0]))\n",
    "            codes = [Path.MOVETO,Path.LINETO,Path.LINETO,Path.CLOSEPOLY]#patches.append(polygon)\n",
    "            path = Path(polygon,codes)\n",
    "       \n",
    "            patch = patches.PathPatch(path, facecolor=plotC, edgecolor=None, lw=0.2)\n",
    "            ax.add_patch(patch)\n",
    "\n",
    "        ax2 = fig.add_axes(axes2)\n",
    "        ax2.set_ylabel('Resistivity [$\\Omega m$]',size=text_size)\n",
    "        ax2.set_title('$\\log_{10}(\\Omega m)$',size=text_size)\n",
    "        cb = mpl.colorbar.ColorbarBase(ax2, cmap=cmap, norm=norm, spacing='proportional', ticks=[np.linspace(np.around(mm[0]),np.around(mm[1]),5)], boundaries=bounds)\n",
    "       \n",
    "        fname = path_d + 'pngs/' + re.sub(path_d,' ',data[w])[6:-3] + 'png'\n",
    "        title = re.sub(path_d,' ',fname)[6:-4]\n",
    "        ax.set_title(title[5:7] + '/' + title[8:10] + '/' + title[0:4],fontsize=16, color='gray')\n",
    "        plt.savefig(fname, dpi=None, facecolor='w', edgecolor='w', orientation='portrait', papertype=None, format=None, transparent=False, bbox_inches=None, pad_inches=0.1, frameon=None, metadata=None)\n",
    "\n",
    "        plt.close(fig)\n",
    "        plt.clf()\n",
    "        plt.cla()\n",
    "print(\"\\n\\nImages saved in \" + path_d + 'pngs/')"
   ]
  },
  {
   "cell_type": "code",
   "execution_count": null,
   "metadata": {},
   "outputs": [],
   "source": []
  }
 ],
 "metadata": {
  "kernelspec": {
   "display_name": "Python [conda env:py3.6]",
   "language": "python",
   "name": "conda-env-py3.6-py"
  },
  "language_info": {
   "codemirror_mode": {
    "name": "ipython",
    "version": 3
   },
   "file_extension": ".py",
   "mimetype": "text/x-python",
   "name": "python",
   "nbconvert_exporter": "python",
   "pygments_lexer": "ipython3",
   "version": "3.6.7"
  }
 },
 "nbformat": 4,
 "nbformat_minor": 2
}
